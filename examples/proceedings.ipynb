{
 "cells": [
  {
   "attachments": {},
   "cell_type": "markdown",
   "id": "044de6fe",
   "metadata": {},
   "source": [
    "---\n",
    "title: 'NERD: Numerical Estimation of Rodenticide Density'\n",
    "tags:\n",
    "  - aerial broadcast\n",
    "  - bait bucket\n",
    "  - Python\n",
    "  - rodent eradication\n",
    "  - rodenticide bait density\n",
    "authors:\n",
    "  - name: Evaristo Rojas-Mayoral\n",
    "    orcid: 0000-0001-6812-9562\n",
    "    corresponding: true\n",
    "    affiliation: 1\n",
    "  - name: Braulio Rojas-Mayoral\n",
    "    orcid: 0000-0003-2358-2843\n",
    "    affiliation: 1\n",
    "  - name: Federico A. Méndez-Sánchez\n",
    "    orcid: 0000-0002-3467-0008\n",
    "    affiliation: 1\n",
    "affiliations:\n",
    "  - name: Grupo de Ecología y Conservación de Islas\n",
    "    index: 1\n",
    "bibliography: references.bib\n",
    "\n",
    "..."
   ]
  },
  {
   "attachments": {},
   "cell_type": "markdown",
   "id": "77edcb88-6e14-40a9-9f5e-7145c887f6dd",
   "metadata": {},
   "source": [
    "# Summary\n",
    "\n",
    "Invasive rodents are present on approximately 90% of the world's islands and constitute one of the most serious threats to both endemic and native island species. The eradication of rodents is central to island conservation efforts and the aerial broadcast of rodenticide bait is the preferred dispersal method. To maximize the efficiency of rodent eradication campaigns utilizing aerial dispersal methods, the generation of accurate and real-time bait density maps are needed.\n",
    "Traditionally, the creation of ground-level bait dispersion maps has relied on Geographic Information System (GIS), an approach that is time-consuming and based on untested assumptions. In order to improve accuracy and expedite the evaluation of aerial operations, we developed an algorithm called NERD: Numerical Estimation of Rodenticide Density, which performs calculations with high precision and provides immediate results. At its core, NERD is a probability density function describing the bait density on the ground as a function of the aperture diameter of the bait bucket and the helicopter speed. The effectiveness of the model was effectively demonstrated through its successful utilization in two successful rodent eradication campaigns in Mexico: the mice eradication on San Benito Oeste Island (400 ha) in the Mexican Pacific, and the ship rat eradication on Cayo Centro Island (539 ha) from Banco Chinchorro, in the Mexican Caribbean. Notably, the latter campaign represents the largest rodent eradication on a wet tropical island to date. NERD's efficacy has been proven, and it has the potential to significantly reduce the overall cost of large-scale rodent eradication campaigns."
   ]
  },
  {
   "attachments": {},
   "cell_type": "markdown",
   "id": "d4c928e4-78e5-438b-8b57-b4fa75e1f343",
   "metadata": {},
   "source": [
    "# Introduction\n",
    "\n",
    "The effects of invasive rodent species on island ecosystems are incredibly deleterious, especially\n",
    "on islands that present high levels of endemism and islands that have evolved in the absence of\n",
    "predators occupying similar niches to the invasive rodent species or higher order predators\n",
    "[@Meyers2000]. The population biology of invasive rodents on islands is still poorly understood [Grant2015], but the presence of rodents on islands can lead to the rapid decline, severe reduction and extinction of native plant and animal species [@Medina2011; @Towns2006]. The resultant losses are reflected in reduced biodiversity on the affected islands and in many cases, the emergence of the invasive rodent as the dominant species. In severe cases of rodent invasion,key island ecosystem services are lost [@Towns2006]. \n",
    "As such, the first step in island restoration and biodiversity recovery is the eradication of invasive rodent species. Effective strategies have been developed to combat the detrimental effects of invasive rodent species on island ecosystems. These strategies are designed to minimize or eradicate rodent populations, thereby facilitating the restoration of native species and the reestablishment of crucial ecosystem processes. One widely utilized strategy is the aerial broadcast of rodenticide bait, which involves dispersing bait pellets from helicopters over the targeted areas. This method has proven to be highly effective in reducing rodent populations and has been successfully employed in numerous eradication campaigns [@Keitt2015]."
   ]
  },
  {
   "attachments": {},
   "cell_type": "markdown",
   "id": "72f3aa6e",
   "metadata": {},
   "source": [
    "# Statement of need\n",
    "\n",
    "Of the various means of rodent eradication on islands, the aerial broadcast of rodenticide bait is\n",
    "one of the preferred methods given the obvious advantages. The aerial dispersal of rodenticide can\n",
    "cover large areas quickly and can mitigate the challenges associated with complex topography. To\n",
    "assess the effectiveness of an aerial operation, bait density maps are required to evaluate the\n",
    "spatial variation of bait availability on the ground. However, creating bait density maps has been\n",
    "traditionally slow and impractical in the field, while taking in situ measurements to evaluate\n",
    "aerial work is difficult given the challenges associated with field conditions, topography, and\n",
    "available labor force."
   ]
  },
  {
   "attachments": {},
   "cell_type": "markdown",
   "id": "5b24ebb5",
   "metadata": {},
   "source": [
    "To address these challenges, we have developed NERD: Numerical Estimation of Rodenticide Dispersal.\n",
    "NERD facilitates the planning of helicopter rodenticide dispersal campaigns by generating bait\n",
    "density maps automatically and allowing for the instant identification of bait gaps with fewer in\n",
    "situ measurements. The algorithm is based on prior calibration experiments\n",
    "in which the mass flow of rodenticide through a bait bucket is measured. At its core, NERD is a\n",
    "probability density function that describes bait density as a function of bucket aperture diameter and\n",
    "helicopter speed."
   ]
  },
  {
   "attachments": {},
   "cell_type": "markdown",
   "id": "80cc1164-38e1-4633-8169-bc8af720c6e1",
   "metadata": {},
   "source": [
    "# Formulation\n",
    "\n",
    "@Mayoral-Rojas2019 shared that the function $\\sigma(x,y)$ used to represent the\n",
    "superficial bait density (kg/m$^2$), must comply with the following property:\n",
    "\\begin{equation}\n",
    "\\int_{-\\frac{w}{2}}^{+\\frac{w}{2}} \\sigma(x)dx=\\frac{\\dot{m}}{s}\n",
    "  \\label{eq:integralDeDensidadEsflujoSobreRapidez}\n",
    "\\end{equation}\n",
    "where $\\dot{m}$ is the bait flow (kg/s), $s$ is the speed of the helicopter (m/s), and $w$ is the swath width (m)."
   ]
  },
  {
   "attachments": {},
   "cell_type": "markdown",
   "id": "674c6d1c",
   "metadata": {},
   "source": [
    "# Calibration\n",
    "\n",
    "Assuming the density is independent of $x$, i.e. $\\sigma$ does not change along the swath width,\n",
    "equation \\eqref{eq:integralDeDensidadEsflujoSobreRapidez} can be easily solved to obtain:"
   ]
  },
  {
   "attachments": {},
   "cell_type": "markdown",
   "id": "a337802e",
   "metadata": {},
   "source": [
    "\\begin{equation}\n",
    "  \\sigma = \\frac{\\dot{m}}{s\\cdot w}.\n",
    "  \\label{eq:densidadEsFlujoSobreProductoRapidezPorAncho}\n",
    "\\end{equation}"
   ]
  },
  {
   "cell_type": "markdown",
   "id": "adb32755",
   "metadata": {},
   "source": []
  }
 ],
 "metadata": {
  "kernelspec": {
   "display_name": "Python 3 (ipykernel)",
   "language": "python",
   "name": "python3"
  },
  "language_info": {
   "codemirror_mode": {
    "name": "ipython",
    "version": 3
   },
   "file_extension": ".py",
   "mimetype": "text/x-python",
   "name": "python",
   "nbconvert_exporter": "python",
   "pygments_lexer": "ipython3",
   "version": "3.11.4"
  }
 },
 "nbformat": 4,
 "nbformat_minor": 5
}
